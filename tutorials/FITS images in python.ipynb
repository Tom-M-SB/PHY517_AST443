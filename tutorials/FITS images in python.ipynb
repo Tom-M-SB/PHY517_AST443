{
 "cells": [
  {
   "cell_type": "markdown",
   "metadata": {},
   "source": [
    "### FITS images in python; image statistics and plots\n",
    "\n",
    "This notebook provides examples of reading a FITS image into a numpy array, plotting a histogram of the measured count values, and determining basic statistics of the count distribution.\n",
    "\n",
    "More information on handling FITS files in python can be found [here]([http://docs.astropy.org/en/stable/io/fits/)."
   ]
  },
  {
   "cell_type": "code",
   "execution_count": null,
   "metadata": {
    "collapsed": false
   },
   "outputs": [],
   "source": [
    "### for array operations\n",
    "import numpy as np\n",
    "\n",
    "### for plotting\n",
    "import matplotlib\n",
    "matplotlib.use('TkAgg')\n",
    "import matplotlib.pyplot as plt\n",
    "%matplotlib inline\n",
    "\n",
    "### for operations on FITS images\n",
    "from astropy.io import fits\n",
    "\n",
    "### statistics functions needed in this tutorial\n",
    "from scipy import stats\n",
    "from scipy.stats import norm"
   ]
  },
  {
   "cell_type": "code",
   "execution_count": null,
   "metadata": {
    "collapsed": true
   },
   "outputs": [],
   "source": [
    "### \"fits.open\" opens the FITS file\n",
    "hdulist = fits.open('00000026.BIAS.FIT')"
   ]
  },
  {
   "cell_type": "code",
   "execution_count": null,
   "metadata": {
    "collapsed": false
   },
   "outputs": [],
   "source": [
    "### let's look at what's in it\n",
    "### in this case, a single extention, i.e. it has index 0\n",
    "hdulist.info()"
   ]
  },
  {
   "cell_type": "code",
   "execution_count": null,
   "metadata": {
    "collapsed": true
   },
   "outputs": [],
   "source": [
    "### an image \n",
    "header = hdulist[0].header"
   ]
  },
  {
   "cell_type": "code",
   "execution_count": null,
   "metadata": {
    "collapsed": false
   },
   "outputs": [],
   "source": [
    "### let's look at the header\n",
    "header"
   ]
  },
  {
   "cell_type": "code",
   "execution_count": null,
   "metadata": {
    "collapsed": false
   },
   "outputs": [],
   "source": [
    "### ... and specifically the exposure time\n",
    "header['EXPTIME']"
   ]
  },
  {
   "cell_type": "code",
   "execution_count": null,
   "metadata": {
    "collapsed": false
   },
   "outputs": [],
   "source": [
    "### let's look at the image data now\n",
    "imagedata = hdulist[0].data"
   ]
  },
  {
   "cell_type": "code",
   "execution_count": null,
   "metadata": {
    "collapsed": false
   },
   "outputs": [],
   "source": [
    "### \"imagedata\" is now a numpy array\n",
    "### to check it's dimensions, we can use:\n",
    "imagedata.shape"
   ]
  },
  {
   "cell_type": "code",
   "execution_count": null,
   "metadata": {
    "collapsed": false
   },
   "outputs": [],
   "source": [
    "### for plotting the histogram, calculating statistics, etc., it's useful to convert the 2d array into a 1d list:\n",
    "countvalues = imagedata.flatten()"
   ]
  },
  {
   "cell_type": "code",
   "execution_count": null,
   "metadata": {
    "collapsed": false
   },
   "outputs": [],
   "source": [
    "countvalues.shape"
   ]
  },
  {
   "cell_type": "code",
   "execution_count": null,
   "metadata": {
    "collapsed": false
   },
   "outputs": [],
   "source": [
    "### first, let's look at the maximum and minimum counts\n",
    "print(np.max(countvalues))\n",
    "print(np.min(countvalues))"
   ]
  },
  {
   "cell_type": "code",
   "execution_count": null,
   "metadata": {
    "collapsed": false
   },
   "outputs": [],
   "source": [
    "### plot a histogram, using a logarithmic y-axis\n",
    "plt.hist(countvalues,bins=100);\n",
    "plt.yscale('log')"
   ]
  },
  {
   "cell_type": "code",
   "execution_count": null,
   "metadata": {
    "collapsed": false
   },
   "outputs": [],
   "source": [
    "### let's re-plot, specifying a smaller range, and the number of bins:\n",
    "plt.hist(countvalues,range=[900,1300], bins=100);\n",
    "plt.yscale('log')"
   ]
  },
  {
   "cell_type": "code",
   "execution_count": null,
   "metadata": {
    "collapsed": false
   },
   "outputs": [],
   "source": [
    "### compute the mean, the median, the mode, and the standard deviation:\n",
    "print(np.mean(countvalues))\n",
    "print(stats.mode(countvalues)[0][0])\n",
    "print(np.median(countvalues))\n",
    "print(np.std(countvalues))"
   ]
  },
  {
   "cell_type": "code",
   "execution_count": null,
   "metadata": {
    "collapsed": false
   },
   "outputs": [],
   "source": [
    "### repeat the same, but clip \"outliers\":\n",
    "\n",
    "clippedvalues = countvalues[countvalues<1050]\n",
    "\n",
    "print(np.mean(clippedvalues))\n",
    "print(stats.mode(clippedvalues)[0][0])\n",
    "print(np.median(clippedvalues))\n",
    "print(np.std(clippedvalues))"
   ]
  },
  {
   "cell_type": "code",
   "execution_count": null,
   "metadata": {
    "collapsed": false
   },
   "outputs": [],
   "source": [
    "### overplot a normal distribution, as specified by the mean and standard deviation\n",
    "\n",
    "cmin=900\n",
    "cmax=1200\n",
    "nbins=100\n",
    "normalization=(cmax-cmin)/nbins*len(countvalues[(countvalues>=cmin) & (countvalues<=cmax)])\n",
    "\n",
    "clipmin=cmin\n",
    "clipmax=1100\n",
    "clippedvalues = countvalues[(countvalues>=clipmin) & (countvalues<=clipmax)]\n",
    "\n",
    "mu=np.mean(clippedvalues)\n",
    "sig=np.std(clippedvalues)\n",
    "mode=stats.mode(clippedvalues)[0][0]\n",
    "\n",
    "xarray=np.linspace(cmin,cmax,nbins*10)\n",
    "yarray=normalization*norm.pdf(xarray,loc=mu, scale=sig)\n",
    "\n",
    "plt.hist(countvalues,range=[cmin,cmax], bins=nbins);\n",
    "plt.yscale('log')\n",
    "plt.ylim([0.1,1e6])\n",
    "plt.plot(xarray,yarray,color=\"red\",linewidth=3.0)\n",
    "plt.axvline(x=mode,linewidth=3.0,color=\"yellow\")"
   ]
  },
  {
   "cell_type": "markdown",
   "metadata": {},
   "source": [
    "### Operations on multiple files"
   ]
  },
  {
   "cell_type": "code",
   "execution_count": null,
   "metadata": {
    "collapsed": true
   },
   "outputs": [],
   "source": [
    "### open a second file file\n",
    "hdu2 = fits.open('00000025.BIAS.FIT')\n",
    "\n",
    "### read image data into numpy array\n",
    "imagedata2 = hdu2[0].data"
   ]
  },
  {
   "cell_type": "code",
   "execution_count": null,
   "metadata": {
    "collapsed": true
   },
   "outputs": [],
   "source": [
    "### \"simple\" arithmetic operations such as addition etc. can be done straightforwardly such as\n",
    "sum = imagedata + imagedata2\n",
    "\n",
    "### for operations such as taking the mean, or median, of a list of array, \n",
    "### we first need to create an array out of all the images\n",
    "### this can be done like this:\n",
    "allimages=[imagedata2,imagedata]\n",
    "### take the average of the two arrays\n",
    "avg = np.mean(allimages,axis=0)"
   ]
  },
  {
   "cell_type": "code",
   "execution_count": null,
   "metadata": {
    "collapsed": false
   },
   "outputs": [],
   "source": [
    "### the result is another numpy array with the same shape:\n",
    "avg.shape"
   ]
  },
  {
   "cell_type": "code",
   "execution_count": null,
   "metadata": {
    "collapsed": false
   },
   "outputs": [],
   "source": [
    "### write \"sub\" into a new fits file\n",
    "newhdu = fits.PrimaryHDU(sub)\n",
    "newhdu.writeto('avg.fits')"
   ]
  }
 ],
 "metadata": {
  "kernelspec": {
   "display_name": "Python 2",
   "language": "python",
   "name": "python2"
  },
  "language_info": {
   "codemirror_mode": {
    "name": "ipython",
    "version": 2
   },
   "file_extension": ".py",
   "mimetype": "text/x-python",
   "name": "python",
   "nbconvert_exporter": "python",
   "pygments_lexer": "ipython2",
   "version": "2.7.12"
  }
 },
 "nbformat": 4,
 "nbformat_minor": 2
}
